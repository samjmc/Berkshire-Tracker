{
 "cells": [
  {
   "cell_type": "code",
   "execution_count": 2,
   "id": "7f1cad09-c508-432c-998c-96d6ca5ab1b5",
   "metadata": {},
   "outputs": [],
   "source": [
    "import requests\n",
    "import pandas as pd\n",
    "import xml.etree.ElementTree as ET\n",
    "from bs4 import BeautifulSoup\n"
   ]
  },
  {
   "cell_type": "code",
   "execution_count": 3,
   "id": "c0138ad6-6e02-4132-bc06-beb25a90a507",
   "metadata": {},
   "outputs": [],
   "source": [
    "def parse_13f_xml(xml_url):\n",
    "    headers = {\n",
    "        \"User-Agent\": \"Your Name (your.email@example.com)\"\n",
    "    }\n",
    "\n",
    "    response = requests.get(xml_url, headers=headers)\n",
    "    response.raise_for_status()\n",
    "\n",
    "    root = ET.fromstring(response.content)\n",
    "\n",
    "    # SEC 13F XML namespace\n",
    "    ns = {'ns': 'http://www.sec.gov/edgar/document/thirteenf/informationtable'}\n",
    "\n",
    "    data = []\n",
    "\n",
    "    for info in root.findall(\"ns:infoTable\", ns):\n",
    "        row = {\n",
    "            \"nameOfIssuer\": info.findtext(\"ns:nameOfIssuer\", default=\"\", namespaces=ns),\n",
    "            \"cusip\": info.findtext(\"ns:cusip\", default=\"\", namespaces=ns),\n",
    "            \"value ($1000s)\": info.findtext(\"ns:value\", default=\"\", namespaces=ns),\n",
    "            \"shares\": info.findtext(\"ns:shrsOrPrnAmt/ns:sshPrnamt\", default=\"\", namespaces=ns),\n",
    "            \"investmentDiscretion\": info.findtext(\"ns:investmentDiscretion\", default=\"\", namespaces=ns),\n",
    "            \"votingAuthority (Sole)\": info.findtext(\"ns:votingAuthority/ns:Sole\", default=\"\", namespaces=ns)\n",
    "        }\n",
    "        data.append(row)\n",
    "\n",
    "    return pd.DataFrame(data)\n"
   ]
  },
  {
   "cell_type": "code",
   "execution_count": 4,
   "id": "72e92f06-49cb-47de-bed7-83ef644c77ba",
   "metadata": {},
   "outputs": [
    {
     "name": "stdout",
     "output_type": "stream",
     "text": [
      "✅ Berkshire Hathaway Holdings:\n",
      "    nameOfIssuer      cusip value ($1000s)    shares investmentDiscretion  \\\n",
      "0  ALLY FINL INC  02005N100      458035497  12719675                 DFND   \n",
      "1  ALLY FINL INC  02005N100      100967539   2803875                 DFND   \n",
      "2  ALLY FINL INC  02005N100      152257482   4228200                 DFND   \n",
      "3  ALLY FINL INC  02005N100      112963370   3137000                 DFND   \n",
      "4  ALLY FINL INC  02005N100      174153363   4836250                 DFND   \n",
      "\n",
      "  votingAuthority (Sole)  \n",
      "0               12719675  \n",
      "1                2803875  \n",
      "2                4228200  \n",
      "3                3137000  \n",
      "4                4836250  \n"
     ]
    }
   ],
   "source": [
    "xml_url = \"https://www.sec.gov/Archives/edgar/data/1067983/000095012325002701/39042.xml\"\n",
    "df = parse_13f_xml(xml_url)\n",
    "\n",
    "# Preview\n",
    "print(\"✅ Berkshire Hathaway Holdings:\")\n",
    "print(df.head())\n",
    "\n",
    "# Optional: Clean up types\n",
    "df[\"value ($1000s)\"] = pd.to_numeric(df[\"value ($1000s)\"], errors=\"coerce\")\n",
    "df[\"shares\"] = pd.to_numeric(df[\"shares\"], errors=\"coerce\")\n"
   ]
  },
  {
   "cell_type": "code",
   "execution_count": 5,
   "id": "958a7362-af3a-4b07-a262-adcf06b8628b",
   "metadata": {},
   "outputs": [
    {
     "name": "stdout",
     "output_type": "stream",
     "text": [
      "\n",
      "🏆 Top 10 Holdings:\n",
      "             nameOfIssuer  value ($1000s)     shares\n",
      "9     AMERICAN EXPRESS CO     44239827546  149061045\n",
      "20              APPLE INC     38250906745  152747012\n",
      "58           COCA COLA CO     17602317108  282722729\n",
      "17              APPLE INC     15411595055   61542988\n",
      "34         BANK AMER CORP     13659660000  310800000\n",
      "94   OCCIDENTAL PETE CORP     13053055436  264178414\n",
      "68         KRAFT HEINZ CO     10000245261  325634818\n",
      "48       CHEVRON CORP NEW      8919178401   61579525\n",
      "14              APPLE INC      8695584080   34724000\n",
      "111         CHUBB LIMITED      7469434519   27033784\n"
     ]
    }
   ],
   "source": [
    "# Top 10 holdings by value\n",
    "top = df.sort_values(by=\"value ($1000s)\", ascending=False).head(10)\n",
    "print(\"\\n🏆 Top 10 Holdings:\")\n",
    "print(top[[\"nameOfIssuer\", \"value ($1000s)\", \"shares\"]])\n"
   ]
  }
 ],
 "metadata": {
  "kernelspec": {
   "display_name": "Python 3 (ipykernel)",
   "language": "python",
   "name": "python3"
  },
  "language_info": {
   "codemirror_mode": {
    "name": "ipython",
    "version": 3
   },
   "file_extension": ".py",
   "mimetype": "text/x-python",
   "name": "python",
   "nbconvert_exporter": "python",
   "pygments_lexer": "ipython3",
   "version": "3.12.4"
  }
 },
 "nbformat": 4,
 "nbformat_minor": 5
}
